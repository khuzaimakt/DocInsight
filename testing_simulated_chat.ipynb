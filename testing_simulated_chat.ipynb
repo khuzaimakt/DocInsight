{
 "cells": [
  {
   "cell_type": "markdown",
   "metadata": {},
   "source": [
    "Installing and Importing Dependencies"
   ]
  },
  {
   "cell_type": "code",
   "execution_count": null,
   "metadata": {},
   "outputs": [],
   "source": [
    "!pip install --quiet langchain_experimental langchain_openai"
   ]
  },
  {
   "cell_type": "code",
   "execution_count": 1,
   "metadata": {},
   "outputs": [
    {
     "name": "stderr",
     "output_type": "stream",
     "text": [
      "[nltk_data] Downloading package punkt to\n",
      "[nltk_data]     C:\\Users\\tofee\\AppData\\Roaming\\nltk_data...\n",
      "[nltk_data]   Package punkt is already up-to-date!\n"
     ]
    }
   ],
   "source": [
    "from simulated_qh_chat_copy import SimulatedQualifiedHealthChat "
   ]
  },
  {
   "cell_type": "markdown",
   "metadata": {},
   "source": [
    "Setting Up Environment"
   ]
  },
  {
   "cell_type": "code",
   "execution_count": 2,
   "metadata": {},
   "outputs": [],
   "source": [
    "import os\n",
    "os.environ['OPENAI_API_KEY'] = ''"
   ]
  },
  {
   "cell_type": "code",
   "execution_count": 3,
   "metadata": {},
   "outputs": [],
   "source": [
    "from qh_chat import UploadFile, UploadFileType"
   ]
  },
  {
   "cell_type": "markdown",
   "metadata": {},
   "source": [
    "Text File QA"
   ]
  },
  {
   "cell_type": "code",
   "execution_count": null,
   "metadata": {},
   "outputs": [],
   "source": [
    "# Simulate a text file upload\n",
    "text_upload = UploadFile(filepath='covidQA_input.txt', filetype=UploadFileType.TEXT)\n",
    "\n",
    "# Initialize the chat system\n",
    "chat_system = SimulatedQualifiedHealthChat(upload_file=text_upload, use_sentence_chunking=False)\n",
    "\n",
    "# Send a query\n",
    "response = chat_system.send_message(\"What is the main topic of the document?\")\n",
    "print(response)\n"
   ]
  },
  {
   "cell_type": "markdown",
   "metadata": {},
   "source": [
    "PDF File QA"
   ]
  },
  {
   "cell_type": "code",
   "execution_count": 5,
   "metadata": {},
   "outputs": [
    {
     "name": "stderr",
     "output_type": "stream",
     "text": [
      "d:\\University\\Python\\LLM Evals\\RAG\\qh-tools\\simulator\\Lib\\site-packages\\huggingface_hub\\file_download.py:1132: FutureWarning: `resume_download` is deprecated and will be removed in version 1.0.0. Downloads always resume when possible. If you want to force a new download, use `force_download=True`.\n",
      "  warnings.warn(\n"
     ]
    },
    {
     "name": "stdout",
     "output_type": "stream",
     "text": [
      "One of the client's responsibilities in leadership and management is to ensure that designated users, including user champions and subsequent user cohorts, attend the training sessions provided by the SoftwareVendor.\n"
     ]
    }
   ],
   "source": [
    "# Simulate a PDF file upload\n",
    "pdf_upload = UploadFile(filepath='QH Vendor Contract New.pdf', filetype=UploadFileType.PDF)\n",
    "\n",
    "# Initialize the chat system\n",
    "chat_system = SimulatedQualifiedHealthChat(upload_file=pdf_upload, use_sentence_chunking=False)\n",
    "\n",
    "# Send a query\n",
    "response,context = chat_system.send_message(\"What is one of the client's responsibilities in leadership and management?\")\n",
    "print(response)\n"
   ]
  },
  {
   "cell_type": "markdown",
   "metadata": {},
   "source": [
    "Image QA"
   ]
  },
  {
   "cell_type": "code",
   "execution_count": 4,
   "metadata": {},
   "outputs": [
    {
     "name": "stderr",
     "output_type": "stream",
     "text": [
      "d:\\University\\Python\\LLM Evals\\RAG\\qh-tools\\simulator\\Lib\\site-packages\\sentence_transformers\\cross_encoder\\CrossEncoder.py:11: TqdmWarning: IProgress not found. Please update jupyter and ipywidgets. See https://ipywidgets.readthedocs.io/en/stable/user_install.html\n",
      "  from tqdm.autonotebook import tqdm, trange\n",
      "d:\\University\\Python\\LLM Evals\\RAG\\qh-tools\\simulator\\Lib\\site-packages\\huggingface_hub\\file_download.py:1132: FutureWarning: `resume_download` is deprecated and will be removed in version 1.0.0. Downloads always resume when possible. If you want to force a new download, use `force_download=True`.\n",
      "  warnings.warn(\n"
     ]
    },
    {
     "name": "stdout",
     "output_type": "stream",
     "text": [
      "Khuzaima has studied the following courses at FAST-NUCES:\n",
      "\n",
      "- Data Structures and Algorithms\n",
      "- Database Systems\n",
      "- Web Programming\n",
      "- Data Science\n",
      "- Data Analysis and Visualisation\n",
      "- Machine Learning\n",
      "- Deep Learning\n",
      "- Artificial Intelligence\n",
      "- Computer Vision\n",
      "- Natural Language Processing\n",
      "- Big Data Analytics\n"
     ]
    }
   ],
   "source": [
    "# Simulate an image file upload\n",
    "image_upload = UploadFile(filepath='Capture.png', filetype=UploadFileType.IMAGE)\n",
    "\n",
    "# Initialize the chat system\n",
    "chat_system = SimulatedQualifiedHealthChat(upload_file=image_upload)\n",
    "\n",
    "# Send a query\n",
    "response,context = chat_system.send_message(\"What courses have Khuzaima studied from FAST-NUCES?\")\n",
    "print(response)\n"
   ]
  },
  {
   "cell_type": "markdown",
   "metadata": {},
   "source": [
    "Table QA"
   ]
  },
  {
   "cell_type": "code",
   "execution_count": 4,
   "metadata": {},
   "outputs": [
    {
     "name": "stderr",
     "output_type": "stream",
     "text": [
      "d:\\University\\Python\\LLM Evals\\RAG\\qh-tools\\simulator\\Lib\\site-packages\\sentence_transformers\\cross_encoder\\CrossEncoder.py:11: TqdmWarning: IProgress not found. Please update jupyter and ipywidgets. See https://ipywidgets.readthedocs.io/en/stable/user_install.html\n",
      "  from tqdm.autonotebook import tqdm, trange\n",
      "d:\\University\\Python\\LLM Evals\\RAG\\qh-tools\\simulator\\Lib\\site-packages\\huggingface_hub\\file_download.py:1132: FutureWarning: `resume_download` is deprecated and will be removed in version 1.0.0. Downloads always resume when possible. If you want to force a new download, use `force_download=True`.\n",
      "  warnings.warn(\n"
     ]
    },
    {
     "name": "stdout",
     "output_type": "stream",
     "text": [
      "The names of the columns are \"text\" and \"label\".\n"
     ]
    }
   ],
   "source": [
    "# Simulate a table file upload (CSV in this case)\n",
    "table_upload = UploadFile(filepath='bias_detection.csv', filetype=UploadFileType.TABLE)\n",
    "\n",
    "# Initialize the chat system\n",
    "chat_system = SimulatedQualifiedHealthChat(upload_file=table_upload, chunk_tables=True)\n",
    "\n",
    "# Send a query\n",
    "response = chat_system.send_message(\"What are the names of the columns of this data?\")\n",
    "print(response)\n"
   ]
  }
 ],
 "metadata": {
  "kernelspec": {
   "display_name": "simulator",
   "language": "python",
   "name": "python3"
  },
  "language_info": {
   "codemirror_mode": {
    "name": "ipython",
    "version": 3
   },
   "file_extension": ".py",
   "mimetype": "text/x-python",
   "name": "python",
   "nbconvert_exporter": "python",
   "pygments_lexer": "ipython3",
   "version": "3.12.2"
  }
 },
 "nbformat": 4,
 "nbformat_minor": 2
}
